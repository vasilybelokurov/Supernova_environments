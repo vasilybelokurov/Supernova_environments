import json
import pandas as pd
from astropy.coordinates import SkyCoord
import astropy.units as u
import numpy as np
from PIL import Image, ImageDraw
from io import BytesIO
from astropy.cosmology import Planck18 as cosmo
from astropy.cosmology import z_at_value



# Path to the catalog file (update the path to match your local setup)
path_ = '../catalogues/'
catalog_path = path_+'catalog.json'

# Load the catalog data
with open(catalog_path, 'r', encoding='utf-8') as f:
    catalog = json.load(f)

Dist_cut = 100

# Lists to store the data
names = []
ras_deg = []
decs_deg = []
distances = []
max_times = []  # List for time of explosion
type_ia_count = 0  # Counter for Type Ia supernovae

# Function to convert RA/Dec from HH:MM:SS to degrees
def convert_to_degrees(ra_hms, dec_dms):
    try:
        c = SkyCoord(ra=ra_hms, dec=dec_dms, unit=(u.hourangle, u.deg))
        return c.ra.deg, c.dec.deg
    except Exception as e:
        print(f"Error converting RA/Dec: {e}")
        return None, None

# Iterate over each supernova entry in the catalog (assuming it's a list)
for sn_data in catalog:
    # Get the supernova name
    sn_name = sn_data.get('name', '')

    # Check if the supernova is of type Ia
    claimed_types = sn_data.get('claimedtype', [])
    if any('Ia' in ct.get('value', '') for ct in claimed_types):        
        # Get RA and Dec
        ra_list = sn_data.get('ra', [])
        dec_list = sn_data.get('dec', [])
        
        # Get the luminosity distance
        lumdist_list = sn_data.get('lumdist', [])
        if ra_list and dec_list and lumdist_list:
            lumdist = float(lumdist_list[0].get('value', ''))
            # Only select supernovae within NN Mpc
            if lumdist <= Dist_cut:
                # Increment the Type Ia counter
                type_ia_count += 1
                
                ra_hms = ra_list[0].get('value', '')
                dec_dms = dec_list[0].get('value', '')
                ra_deg, dec_deg = convert_to_degrees(ra_hms, dec_dms)
                
                if ra_deg is not None and dec_deg is not None:
                    # Explosion times
                    maxdate_list = sn_data.get('maxdate', [])
                    max_time = maxdate_list[0].get('value', 'N/A') if maxdate_list else 'N/A'
                    
                    # Append to the lists
                    names.append(sn_name)
                    ras_deg.append(ra_deg)
                    decs_deg.append(dec_deg)
                    distances.append(lumdist)
                    max_times.append(max_time)

print(f'Number of Type Ia supernovae within {Dist_cut} Mpc: {type_ia_count}')



# Create an arrya of years of explosion
years = np.array([int(date.split('/')[0]) if date.split('/')[0].isdigit() else 999 for date in max_times])


# Create a DataFrame
df = pd.DataFrame({
#    'Name': names,
    'RA': ras_deg,
    'Dec': decs_deg,
    'Distance': distances,
})

# Save to CSV
df.to_csv(path_+'Type_Ia_Supernovae_within_'+str(Dist_cut)+'_Mpc.csv', index=False)



# Save a CSV with a cut-off date

# Choose a year cut-off
preYear = 2013

# Apply the mask to filter SNe that exploded before 2014
df_preYear = df[years < preYear]

# Save to CSV
df_preYear.to_csv(path_ + 'Type_Ia_Supernovae_pre_'+str(preYear)+'_within_' + str(Dist_cut) + 
                  '_Mpc.csv', index=False)


# Download DECaLS image of fixed physica size for the SNe Ia in the list

# Define parameters
fixed_size_kpc = 10  # Desired physical size in kpc for each side of the cutout
num_pixels = 512     # Keep the number of pixels fixed

# Specify the directory to save the images
save_path = "../images/decals/fixed_physical/"  # Replace with your desired path

os.makedirs(save_path, exist_ok=True)

# Iterate through each row in the DataFrame
for index, row in df_preYear.iterrows():
    ra = row['RA']
    dec = row['Dec']
    lum_dist = row['Distance']  # Assuming this column exists in Mpc

    # Convert luminosity distance to redshift
    redshift = z_at_value(cosmo.luminosity_distance, lum_dist * u.Mpc)

    # Convert redshift to angular scale in arcsec/kpc
    ang_scale = cosmo.arcsec_per_kpc_comoving(redshift).value  # arcsec per kpc

    # Calculate the pixel scale in arcsec to achieve the desired size in kpc
    pixscale = (fixed_size_kpc * ang_scale) / num_pixels  # arcsec per pixel

    
    # Construct the URL for the cutout image
    url = f"https://www.legacysurvey.org/viewer/cutout.jpg?ra={ra}&dec={dec}&pixscale={pixscale}"
    
    # Request the image
    response = requests.get(url)
    if response.status_code == 200:
        # Open the image and add crosshair
        img = Image.open(BytesIO(response.content))
        draw = ImageDraw.Draw(img)
        width, height = img.size
        
        # Define crosshair parameters
        crosshair_color = (255, 0, 0)  # Red color for the crosshair
        line_width = 2
        gap = min(width, height) // 20  # Define gap size at the center
        
        # Horizontal line
        draw.line((width // 2 - width // 4, height // 2, width // 2 - gap, height // 2), 
                  fill=crosshair_color, width=line_width)
        draw.line((width // 2 + gap, height // 2, width // 2 + width // 4, height // 2), 
                  fill=crosshair_color, width=line_width)
        
        # Vertical line
        draw.line((width // 2, height // 2 - height // 4, width // 2, height // 2 - gap), 
                  fill=crosshair_color, width=line_width)
        draw.line((width // 2, height // 2 + gap, width // 2, height // 2 + height // 4), 
                  fill=crosshair_color, width=line_width)
        
        # Save the image to the specified directory
        file_path = os.path.join(save_path, f"decals_cutout_{ra}_{dec}.jpg")
        img.save(file_path)
        print(f"Saved cutout with crosshair for RA: {ra}, Dec: {dec} to {file_path}")
    else:
        print(f"Failed to retrieve image for RA: {ra}, Dec: {dec}")
        



